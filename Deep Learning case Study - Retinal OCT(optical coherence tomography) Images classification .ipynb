{
 "cells": [
  {
   "cell_type": "markdown",
   "metadata": {},
   "source": [
    "# Deep Learning case Study: Retinal OCT Images classification."
   ]
  },
  {
   "cell_type": "markdown",
   "metadata": {},
   "source": [
    "Data Source: https://www.kaggle.com/paultimothymooney/kermany2018"
   ]
  },
  {
   "cell_type": "markdown",
   "metadata": {},
   "source": [
    "## Objective:\n",
    "Given a new OCT image, determine whether the image belongs to which 4 class: CNV, DME, DRUSEN, and NORMAL.\n",
    "We are using CNN for the classification model."
   ]
  },
  {
   "cell_type": "markdown",
   "metadata": {},
   "source": [
    "## ![title](retina.png) "
   ]
  },
  {
   "cell_type": "markdown",
   "metadata": {},
   "source": [
    "Figure: Representative Optical Coherence Tomography Images and the Workflow Diagram\n",
    "2. Reference: [Kermany et. al. 2018] http://www.cell.com/cell/fulltext/S0092-8674(18)30154-5"
   ]
  },
  {
   "cell_type": "markdown",
   "metadata": {},
   "source": [
    "1. (Far left) choroidal neovascularization (CNV) with neovascular membrane (white arrowheads) and associated subretinal      fluid (arrows). \n",
    "2. (Middle left) Diabetic macular edema (DME) with retinal-thickening-associated intraretinal fluid (arrows). \n",
    "3. (Middle right) Multiple drusen (arrowheads) present in early AMD. \n",
    "4. (Far right) Normal retina with preserved foveal contour and absence of any retinal fluid/edema."
   ]
  },
  {
   "cell_type": "markdown",
   "metadata": {},
   "source": [
    "## Context\n",
    "\n",
    "http://www.cell.com/cell/fulltext/S0092-8674(18)30154-5\n",
    "\n",
    "Retinal optical coherence tomography (OCT) is an imaging technique used to capture high-resolution cross sections of the retinas of living patients. Total **83,484** OCT images are there in the training dataset. Also **1000** OCT images are there in the test dataset.\n",
    "\n",
    "It is an **imbalanced** dataset.\n",
    "Training dataset contains below number of images:\n",
    "\n",
    "1. CNV = 26315\n",
    "2. DME = 37205\n",
    "3. DRUSEN = 11348\n",
    "4. NORMAL = 8616"
   ]
  },
  {
   "cell_type": "markdown",
   "metadata": {},
   "source": [
    "## Content:\n",
    "\n",
    "The dataset is organized into 2 folders (train, test) and contains subfolders for each image category (NORMAL,CNV,DME,DRUSEN). There are **84,495 X-Ray images (JPEG) and 4 categories (NORMAL,CNV,DME,DRUSEN).**\n",
    "\n",
    "Images are labeled as (disease)-(randomized patient ID)-(image number by this patient) and split into 4 directories: CNV, DME, DRUSEN, and NORMAL.\n",
    "\n",
    "Optical coherence tomography (OCT) images (Spectralis OCT, Heidelberg Engineering, Germany) were selected from retrospective cohorts of adult patients from the Shiley Eye Institute of the University of California San Diego, the California Retinal Research Foundation, Medical Center Ophthalmology Associates, the Shanghai First People’s Hospital, and Beijing Tongren Eye Center between July 1, 2013 and March 1, 2017.\n",
    "\n",
    "Before training, each image went through a tiered grading system consisting of multiple layers of trained graders of increasing exper- tise for verification and correction of image labels. Each image imported into the database started with a label matching the most recent diagnosis of the patient. The first tier of graders consisted of undergraduate and medical students who had taken and passed an OCT interpretation course review. This first tier of graders conducted initial quality control and excluded OCT images containing severe artifacts or significant image resolution reductions. The second tier of graders consisted of four ophthalmologists who independently graded each image that had passed the first tier. The presence or absence of choroidal neovascularization (active or in the form of subretinal fibrosis), macular edema, drusen, and other pathologies visible on the OCT scan were recorded. Finally, a third tier of two senior independent retinal specialists, each with over 20 years of clinical retina experience, verified the true labels for each image. To account for human error in grading, a validation subset of 993 scans was graded separately by two ophthalmologist graders, with disagreement in clinical labels arbitrated by a senior retinal specialist."
   ]
  },
  {
   "cell_type": "markdown",
   "metadata": {},
   "source": [
    "### Acknowledgements\n",
    "1. Data: https://data.mendeley.com/datasets/rscbjbr9sj/2\n",
    "2. Citation: http://www.cell.com/cell/fulltext/S0092-8674(18)30154-5\n",
    "\n",
    "Dataset of validated OCT and Chest X-Ray images described and analyzed in \"Deep learning-based classification and referral of treatable human diseases\". The OCT Images are split into a training set and a testing set of independent patients. OCT Images are labeled as (disease)-(randomized patient ID)-(image number by this patient) and split into 4 directories: CNV, DME, DRUSEN, and NORMAL.\n"
   ]
  },
  {
   "cell_type": "markdown",
   "metadata": {},
   "source": [
    "# Overview of CNN Architecture:\n",
    "\n",
    "1. Keras allows us to specify the number of filters we want and the size of the filters. So, in our **first layer** we specify the **shape of the input & Number of filters**.\n",
    "\n",
    "3. The **second layer** is the Activation layer. We have used **ReLU (rectified linear unit) as our activation function. ReLU function    is f(x) = max(0, x), where x is the input.** It sets all negative values in the matrix ‘x’ to 0 and keeps all the other values    constant. It is the most used activation function since it reduces training time and prevents the problem of vanishing gradients.\n",
    "\n",
    "4. The **third layer is the MaxPooling layer.** MaxPooling layer is used to down-sample the input to enable the model to make assumptions about the features so as to reduce over-fitting. It also reduces the number of parameters to learn, reducing the training time.\n",
    "\n",
    "4. We can repeat the Activation layers if we want to create a Deep CNN.\n",
    "\n",
    "5. It’s a best practice to always do **BatchNormalization.** BatchNormalization normalizes the matrix after it is been through a convolution layer so that the scale of each dimension remains the same. It reduces the training time significantly.\n",
    "\n",
    "6. **Dropout is the method used to reduce overfitting.** It forces the model to learn multiple independent representations of the same data by randomly disabling neurons in the learning phase. In our model, dropout will randomnly disable 20% of the neurons.\n",
    "\n",
    "7. After creating all the convolutional layers, we need to flatten them, so that they can act as an input to the Dense layers. Dense layers are keras’s alias for Fully connected layers. These layers give the ability to classify the features learned by the CNN.\n",
    "\n",
    "8. The **last layer is the Softmax Activation layer.** Softmax activation enables us to calculate the output based on the probabilities. Each class is assigned a probability and the class with the maximum probability is the model’s output for the input."
   ]
  },
  {
   "cell_type": "code",
   "execution_count": 1,
   "metadata": {},
   "outputs": [
    {
     "name": "stderr",
     "output_type": "stream",
     "text": [
      "Using TensorFlow backend.\n"
     ]
    }
   ],
   "source": [
    "# Importing all the needed modules.\n",
    "import os\n",
    "from glob import glob\n",
    "import matplotlib.pyplot as plt\n",
    "import random\n",
    "import cv2\n",
    "import pandas as pd\n",
    "import numpy as np\n",
    "import matplotlib.gridspec as gridspec\n",
    "import seaborn as sns\n",
    "import zlib\n",
    "import itertools\n",
    "import sklearn\n",
    "import itertools\n",
    "import scipy\n",
    "import skimage\n",
    "from skimage.transform import resize\n",
    "import csv\n",
    "from tqdm import tqdm\n",
    "import warnings\n",
    "warnings.filterwarnings(\"ignore\")\n",
    "from sklearn import model_selection\n",
    "from sklearn.model_selection import train_test_split, KFold, cross_val_score, StratifiedKFold, GridSearchCV\n",
    "from sklearn.utils import class_weight\n",
    "from sklearn.metrics import confusion_matrix, make_scorer, accuracy_score, classification_report\n",
    "import keras\n",
    "from keras.layers import Dense, Dropout, Activation, Flatten, Conv2D, MaxPooling2D, Lambda, MaxPool2D, BatchNormalization\n",
    "from keras.utils import np_utils\n",
    "from keras.utils.np_utils import to_categorical\n",
    "from keras.preprocessing.image import ImageDataGenerator\n",
    "from keras import models, layers, optimizers\n",
    "from sklearn.model_selection import train_test_split\n",
    "from sklearn.metrics import confusion_matrix, accuracy_score\n",
    "from sklearn.utils import class_weight\n",
    "from keras.optimizers import SGD, RMSprop, Adam, Adagrad, Adadelta, RMSprop\n",
    "from keras.models import Sequential, model_from_json\n",
    "from keras.layers import Activation,Dense, Dropout, Flatten, Conv2D, MaxPool2D\n",
    "from keras.layers import MaxPooling2D,AveragePooling2D, GlobalAveragePooling2D,BatchNormalization\n",
    "from keras.preprocessing.image import array_to_img, img_to_array, load_img, ImageDataGenerator\n",
    "from keras.callbacks import ReduceLROnPlateau, ModelCheckpoint\n",
    "from keras import backend as K\n",
    "from keras.applications.vgg16 import VGG16\n",
    "from keras.models import Model\n",
    "from keras.applications.mobilenet import MobileNet\n",
    "from keras.applications.inception_v3 import InceptionV3\n",
    "from imblearn.over_sampling import RandomOverSampler\n",
    "from sklearn.metrics import roc_auc_score\n",
    "from sklearn.metrics import roc_curve\n",
    "from sklearn.metrics import auc\n",
    "%matplotlib inline"
   ]
  },
  {
   "cell_type": "markdown",
   "metadata": {},
   "source": [
    "## Baseline Model: CNN with 3 Hidden Layers."
   ]
  },
  {
   "cell_type": "markdown",
   "metadata": {},
   "source": [
    "**Due to large size of dataset we have used ImageDataGenerator module from keras for Batch wise training of our CNN model.**"
   ]
  },
  {
   "cell_type": "code",
   "execution_count": 2,
   "metadata": {},
   "outputs": [],
   "source": [
    "# Model parameters\n",
    "image_size = 256\n",
    "batch_size = 32\n",
    "num_classes = 4\n",
    "epochs = 10"
   ]
  },
  {
   "cell_type": "code",
   "execution_count": 3,
   "metadata": {},
   "outputs": [
    {
     "name": "stdout",
     "output_type": "stream",
     "text": [
      "_________________________________________________________________\n",
      "Layer (type)                 Output Shape              Param #   \n",
      "=================================================================\n",
      "conv2d_1 (Conv2D)            (None, 254, 254, 256)     7168      \n",
      "_________________________________________________________________\n",
      "batch_normalization_1 (Batch (None, 254, 254, 256)     1024      \n",
      "_________________________________________________________________\n",
      "max_pooling2d_1 (MaxPooling2 (None, 127, 127, 256)     0         \n",
      "_________________________________________________________________\n",
      "dropout_1 (Dropout)          (None, 127, 127, 256)     0         \n",
      "_________________________________________________________________\n",
      "conv2d_2 (Conv2D)            (None, 125, 125, 128)     295040    \n",
      "_________________________________________________________________\n",
      "batch_normalization_2 (Batch (None, 125, 125, 128)     512       \n",
      "_________________________________________________________________\n",
      "max_pooling2d_2 (MaxPooling2 (None, 62, 62, 128)       0         \n",
      "_________________________________________________________________\n",
      "dropout_2 (Dropout)          (None, 62, 62, 128)       0         \n",
      "_________________________________________________________________\n",
      "conv2d_3 (Conv2D)            (None, 60, 60, 64)        73792     \n",
      "_________________________________________________________________\n",
      "batch_normalization_3 (Batch (None, 60, 60, 64)        256       \n",
      "_________________________________________________________________\n",
      "dropout_3 (Dropout)          (None, 60, 60, 64)        0         \n",
      "_________________________________________________________________\n",
      "flatten_1 (Flatten)          (None, 230400)            0         \n",
      "_________________________________________________________________\n",
      "dense_1 (Dense)              (None, 64)                14745664  \n",
      "_________________________________________________________________\n",
      "batch_normalization_4 (Batch (None, 64)                256       \n",
      "_________________________________________________________________\n",
      "dropout_4 (Dropout)          (None, 64)                0         \n",
      "_________________________________________________________________\n",
      "dense_2 (Dense)              (None, 4)                 260       \n",
      "=================================================================\n",
      "Total params: 15,123,972\n",
      "Trainable params: 15,122,948\n",
      "Non-trainable params: 1,024\n",
      "_________________________________________________________________\n",
      "None\n"
     ]
    }
   ],
   "source": [
    "# Baseline Model.\n",
    "model = Sequential()\n",
    "model.add(Conv2D(256, kernel_size=(3, 3), activation='relu', input_shape=(image_size, image_size,3)))\n",
    "model.add(BatchNormalization())\n",
    "model.add(MaxPooling2D((2, 2)))\n",
    "model.add(Dropout(0.25))\n",
    "\n",
    "model.add(Conv2D(128, kernel_size=(3, 3), activation='relu'))\n",
    "model.add(BatchNormalization())\n",
    "model.add(MaxPooling2D(pool_size=(2, 2)))\n",
    "model.add(Dropout(0.25))\n",
    "\n",
    "model.add(Conv2D(64, kernel_size=(3, 3), activation='relu'))\n",
    "model.add(BatchNormalization())\n",
    "model.add(Dropout(0.25))\n",
    "\n",
    "model.add(Flatten())\n",
    "\n",
    "model.add(Dense(64, activation='relu'))\n",
    "model.add(BatchNormalization())\n",
    "model.add(Dropout(0.5))\n",
    "\n",
    "model.add(Dense(num_classes, activation='softmax'))\n",
    "\n",
    "print(model.summary())\n",
    "\n",
    "model.compile(loss=keras.losses.categorical_crossentropy, optimizer=keras.optimizers.Adam(),metrics=['accuracy'])"
   ]
  },
  {
   "cell_type": "code",
   "execution_count": 4,
   "metadata": {},
   "outputs": [],
   "source": [
    "filepath=\"weights_baseline.best.hdf5\"\n",
    "checkpoint = ModelCheckpoint(filepath, monitor='val_acc', verbose=1, save_best_only=True, mode='max')\n",
    "callbacks_list = [checkpoint]"
   ]
  },
  {
   "cell_type": "code",
   "execution_count": 5,
   "metadata": {},
   "outputs": [
    {
     "name": "stdout",
     "output_type": "stream",
     "text": [
      "Found 66788 images belonging to 4 classes.\n",
      "Found 16696 images belonging to 4 classes.\n",
      "Found 1000 images belonging to 4 classes.\n"
     ]
    }
   ],
   "source": [
    "train_datagen = ImageDataGenerator(validation_split=0.2) # set validation split\n",
    "\n",
    "train_generator = train_datagen.flow_from_directory('OCT2017/train',target_size=(image_size, image_size),\n",
    "                                                    batch_size=batch_size,\n",
    "                                                    class_mode='categorical',\n",
    "                                                    subset='training') # set as training data\n",
    "\n",
    "validation_generator = train_datagen.flow_from_directory('OCT2017/train',target_size=(image_size,image_size),\n",
    "                                                         batch_size=batch_size,\n",
    "                                                         class_mode='categorical',\n",
    "                                                         subset='validation') # set as validation data\n",
    "\n",
    "\n",
    "test_datagen = ImageDataGenerator()\n",
    "\n",
    "test_generator = test_datagen.flow_from_directory(\"OCT2017/test\",target_size=(image_size, image_size),\n",
    "                                                  batch_size=batch_size,\n",
    "                                                  class_mode='categorical')"
   ]
  },
  {
   "cell_type": "code",
   "execution_count": 6,
   "metadata": {},
   "outputs": [
    {
     "name": "stdout",
     "output_type": "stream",
     "text": [
      "Epoch 1/10\n",
      "2087/2087 [==============================] - 2770s 1s/step - loss: 0.6977 - acc: 0.7462 - val_loss: 0.7722 - val_acc: 0.7156\n",
      "\n",
      "Epoch 00001: val_acc improved from -inf to 0.71557, saving model to weights_baseline.best.hdf5\n",
      "Epoch 2/10\n",
      "2087/2087 [==============================] - 655s 314ms/step - loss: 0.3858 - acc: 0.8623 - val_loss: 0.4815 - val_acc: 0.8262\n",
      "\n",
      "Epoch 00002: val_acc improved from 0.71557 to 0.82615, saving model to weights_baseline.best.hdf5\n",
      "Epoch 3/10\n",
      "2087/2087 [==============================] - 654s 313ms/step - loss: 0.2716 - acc: 0.9067 - val_loss: 1.1615 - val_acc: 0.7699\n",
      "\n",
      "Epoch 00003: val_acc did not improve from 0.82615\n",
      "Epoch 4/10\n",
      "2087/2087 [==============================] - 655s 314ms/step - loss: 0.2056 - acc: 0.9298 - val_loss: 0.3488 - val_acc: 0.8749\n",
      "\n",
      "Epoch 00004: val_acc improved from 0.82615 to 0.87494, saving model to weights_baseline.best.hdf5\n",
      "Epoch 5/10\n",
      "2087/2087 [==============================] - 658s 315ms/step - loss: 0.1618 - acc: 0.9439 - val_loss: 0.7477 - val_acc: 0.7777\n",
      "\n",
      "Epoch 00005: val_acc did not improve from 0.87494\n",
      "Epoch 6/10\n",
      "2087/2087 [==============================] - 655s 314ms/step - loss: 0.1303 - acc: 0.9553 - val_loss: 0.5503 - val_acc: 0.8476\n",
      "\n",
      "Epoch 00006: val_acc did not improve from 0.87494\n",
      "Epoch 7/10\n",
      "2087/2087 [==============================] - 655s 314ms/step - loss: 0.1052 - acc: 0.9638 - val_loss: 0.4915 - val_acc: 0.8883\n",
      "\n",
      "Epoch 00007: val_acc improved from 0.87494 to 0.88832, saving model to weights_baseline.best.hdf5\n",
      "Epoch 8/10\n",
      "2087/2087 [==============================] - 654s 314ms/step - loss: 0.0961 - acc: 0.9678 - val_loss: 0.3314 - val_acc: 0.9105\n",
      "\n",
      "Epoch 00008: val_acc improved from 0.88832 to 0.91053, saving model to weights_baseline.best.hdf5\n",
      "Epoch 9/10\n",
      "2087/2087 [==============================] - 659s 316ms/step - loss: 0.0799 - acc: 0.9733 - val_loss: 0.4481 - val_acc: 0.8880\n",
      "\n",
      "Epoch 00009: val_acc did not improve from 0.91053\n",
      "Epoch 10/10\n",
      "2087/2087 [==============================] - 655s 314ms/step - loss: 0.0720 - acc: 0.9761 - val_loss: 0.6839 - val_acc: 0.8563\n",
      "\n",
      "Epoch 00010: val_acc did not improve from 0.91053\n"
     ]
    }
   ],
   "source": [
    "# Train the network\n",
    "history = model.fit_generator(train_generator,\n",
    "                              steps_per_epoch = train_generator.samples // batch_size,\n",
    "                              validation_data = validation_generator,\n",
    "                              validation_steps = validation_generator.samples // batch_size,\n",
    "                              epochs = epochs, \n",
    "                              callbacks=callbacks_list)"
   ]
  },
  {
   "cell_type": "code",
   "execution_count": 7,
   "metadata": {},
   "outputs": [],
   "source": [
    "# serialize model to JSON\n",
    "model_json = model.to_json()\n",
    "with open(\"model_baseline.json\", \"w\") as json_file:\n",
    "    json_file.write(model_json)"
   ]
  },
  {
   "cell_type": "code",
   "execution_count": 12,
   "metadata": {},
   "outputs": [
    {
     "name": "stdout",
     "output_type": "stream",
     "text": [
      "\n",
      "\n",
      "\n",
      "Test Loss: 0.6890423384087145\n",
      "Test accuracy: 0.8543388429752066\n"
     ]
    },
    {
     "data": {
      "image/png": "[encoded data removed]",
      "text/plain": [
       "<Figure size 432x288 with 1 Axes>"
      ]
     },
     "metadata": {},
     "output_type": "display_data"
    }
   ],
   "source": [
    "score = model.evaluate_generator(test_generator,steps = test_generator.samples // batch_size) \n",
    "print(\"\\n\\n\")\n",
    "print('Test Loss:', score[0])\n",
    "print('Test accuracy:', score[1])\n",
    "\n",
    "# https://gist.github.com/greydanus/f6eee59eaf1d90fcb3b534a25362cea4\n",
    "# https://stackoverflow.com/a/14434334\n",
    "# This function is used to update the plots for each epoch and error\n",
    "def plt_dynamic(x, vy, ty, ax, colors=['b']):\n",
    "    ax.plot(x, vy, 'b', label=\"Validation Loss\")\n",
    "    ax.plot(x, ty, 'r', label=\"Train Loss\")\n",
    "    plt.legend()\n",
    "    plt.grid()\n",
    "    fig.canvas.draw()\n",
    "\n",
    "fig,ax = plt.subplots(1,1)\n",
    "ax.set_xlabel('epoch') \n",
    "ax.set_ylabel('Categorical Crossentropy Loss')\n",
    "\n",
    "# list of epoch numbers\n",
    "x = list(range(1,epochs+1))\n",
    "\n",
    "vy = history.history['val_loss']\n",
    "ty = history.history['loss']\n",
    "plt_dynamic(x, vy, ty, ax)"
   ]
  },
  {
   "cell_type": "code",
   "execution_count": 3,
   "metadata": {},
   "outputs": [],
   "source": [
    "def load_test_data(folder):\n",
    "    \"\"\"\n",
    "    Function to load the images and labels.\n",
    "    \"\"\"\n",
    "    Image = []\n",
    "    Label = []\n",
    "    \n",
    "    for folder_name in os.listdir(folder):\n",
    "        # Reading the labels.\n",
    "        if not folder_name.startswith('.'):\n",
    "            if folder_name in ['CNV']:\n",
    "                label = 0\n",
    "            elif folder_name in ['DME']:\n",
    "                label = 1\n",
    "            elif folder_name in ['DRUSEN']:\n",
    "                label = 2\n",
    "            elif folder_name in ['NORMAL']:\n",
    "                label = 3\n",
    "            else:\n",
    "                label = 4\n",
    "            for image_file_name in tqdm(os.listdir(folder + folder_name)):\n",
    "                # Reading the images.\n",
    "                image_file = cv2.imread(folder + folder_name + '/' + image_file_name)\n",
    "                if image_file is not None:\n",
    "                    # Converting images into array.\n",
    "                    image_file = skimage.transform.resize(image_file, (image_size, image_size, 3))\n",
    "                    image_array = np.asarray(image_file)\n",
    "                    Image.append(image_array)\n",
    "                    Label.append(label)\n",
    "    Image = np.asarray(Image)\n",
    "    Label = np.asarray(Label)\n",
    "    return Image,Label\n",
    "#Reference: https://stackoverflow.com/questions/49220111/read-own-multiple-images-from-folder-and-save-as-a-dataset-for-training\n",
    "#Reference: https://stackoverflow.com/questions/30230592/loading-all-images-using-imread-from-a-given-folder"
   ]
  },
  {
   "cell_type": "code",
   "execution_count": 4,
   "metadata": {},
   "outputs": [
    {
     "name": "stderr",
     "output_type": "stream",
     "text": [
      "100%|██████████| 250/250 [00:04<00:00, 56.78it/s]\n",
      "100%|██████████| 250/250 [00:04<00:00, 59.67it/s]\n",
      "100%|██████████| 250/250 [00:04<00:00, 55.48it/s]\n",
      "100%|██████████| 250/250 [00:03<00:00, 65.00it/s]\n"
     ]
    }
   ],
   "source": [
    "# Load the Test labels.\n",
    "X_test,Y_test= load_test_data(\"OCT2017/test/\")"
   ]
  },
  {
   "cell_type": "code",
   "execution_count": 5,
   "metadata": {},
   "outputs": [],
   "source": [
    "from keras.models import load_model\n",
    "model = load_model('weights_baseline.best.hdf5')"
   ]
  },
  {
   "cell_type": "code",
   "execution_count": 6,
   "metadata": {},
   "outputs": [
    {
     "name": "stdout",
     "output_type": "stream",
     "text": [
      "Found 1000 images belonging to 4 classes.\n"
     ]
    }
   ],
   "source": [
    "pred_datagen = ImageDataGenerator()\n",
    "\n",
    "pred_generator = pred_datagen.flow_from_directory(\"OCT2017/test\",target_size=(image_size, image_size),\n",
    "                                                  batch_size=1,\n",
    "                                                  class_mode='categorical',\n",
    "                                                  shuffle = False)                                                  "
   ]
  },
  {
   "cell_type": "code",
   "execution_count": 7,
   "metadata": {},
   "outputs": [],
   "source": [
    "pred_generator.reset()\n",
    "y_pred = model.predict_generator(pred_generator,steps = 1000)\n",
    "Y_test = pred_generator.classes[pred_generator.index_array]\n",
    "Y_pred = np.argmax(y_pred, axis=-1)"
   ]
  },
  {
   "cell_type": "code",
   "execution_count": 8,
   "metadata": {},
   "outputs": [],
   "source": [
    "Y_pred = np.argmax(y_pred,axis = 1) "
   ]
  },
  {
   "cell_type": "code",
   "execution_count": 9,
   "metadata": {},
   "outputs": [],
   "source": [
    "import pickle\n",
    "with open('y_pred_baseline_model.pkl','wb') as f:\n",
    "    pickle.dump(y_pred, f)"
   ]
  },
  {
   "cell_type": "code",
   "execution_count": 10,
   "metadata": {},
   "outputs": [],
   "source": [
    "def plot_confusion_matrix(cm, classes,\n",
    "                          normalize=False,\n",
    "                          title='Confusion matrix',\n",
    "                          cmap=plt.cm.Blues):\n",
    "    if normalize:\n",
    "        cm = cm.astype('float') / cm.sum(axis=1)[:, np.newaxis]\n",
    "\n",
    "    plt.imshow(cm, interpolation='nearest', cmap=cmap)\n",
    "    plt.title(title)\n",
    "    plt.colorbar()\n",
    "    tick_marks = np.arange(len(classes))\n",
    "    plt.xticks(tick_marks, classes, rotation=90)\n",
    "    plt.yticks(tick_marks, classes)\n",
    "\n",
    "    fmt = '.2f' if normalize else 'd'\n",
    "    thresh = cm.max() / 2.\n",
    "    for i, j in itertools.product(range(cm.shape[0]), range(cm.shape[1])):\n",
    "        plt.text(j, i, format(cm[i, j], fmt),\n",
    "                 horizontalalignment=\"center\",\n",
    "                 color=\"white\" if cm[i, j] > thresh else \"black\")\n",
    "\n",
    "    plt.tight_layout()\n",
    "    plt.ylabel('True label')\n",
    "    plt.xlabel('Predicted label')"
   ]
  },
  {
   "cell_type": "code",
   "execution_count": 11,
   "metadata": {},
   "outputs": [
    {
     "name": "stdout",
     "output_type": "stream",
     "text": [
      "--------------------\n",
      "| Confusion Matrix |\n",
      "--------------------\n",
      "\n",
      " [[250   0   0   0]\n",
      " [ 48 195   0   7]\n",
      " [ 16   0 233   1]\n",
      " [  0   0   2 248]]\n"
     ]
    },
    {
     "data": {
      "image/png": "[encoded data removed]",
      "text/plain": [
       "<Figure size 576x576 with 2 Axes>"
      ]
     },
     "metadata": {},
     "output_type": "display_data"
    }
   ],
   "source": [
    "# confusion matrix\n",
    "cm = confusion_matrix(Y_test, Y_pred)\n",
    " \n",
    "print('--------------------')\n",
    "print('| Confusion Matrix |')\n",
    "print('--------------------')\n",
    "print('\\n {}'.format(cm))\n",
    "        \n",
    "# plot confusin matrix\n",
    "plt.figure(figsize=(8,8))\n",
    "plt.grid(b=False)\n",
    "plot_confusion_matrix(cm, classes=['CNV','DME','DRUSEN','NORMAL'], normalize=False, \n",
    "                      title='Confusion matrix', cmap = plt.cm.Blues)\n",
    "plt.show()"
   ]
  },
  {
   "cell_type": "code",
   "execution_count": 13,
   "metadata": {},
   "outputs": [
    {
     "name": "stdout",
     "output_type": "stream",
     "text": [
      "              precision    recall  f1-score   support\n",
      "\n",
      "         CNV       0.80      1.00      0.89       250\n",
      "         DME       1.00      0.78      0.88       250\n",
      "      DRUSEN       0.99      0.93      0.96       250\n",
      "      Normal       0.97      0.99      0.98       250\n",
      "\n",
      "   micro avg       0.93      0.93      0.93      1000\n",
      "   macro avg       0.94      0.93      0.93      1000\n",
      "weighted avg       0.94      0.93      0.93      1000\n",
      "\n"
     ]
    }
   ],
   "source": [
    "from sklearn.metrics import classification_report\n",
    "print(classification_report(Y_test,Y_pred,target_names=['CNV','DME','DRUSEN','Normal']))"
   ]
  },
  {
   "cell_type": "markdown",
   "metadata": {},
   "source": [
    "### Observations:\n",
    "1. We have 3 hidden layers in this CNN model.\n",
    "2. **Test Loss: 0.689**\n",
    "3. **Test accuracy: 0.854**\n",
    "4. **precision = 0.94 || recall = 0.93 || f1-score = 0.93**\n",
    "3. Dataset imbalance causes low Train & Test accuracy:"
   ]
  },
  {
   "cell_type": "markdown",
   "metadata": {},
   "source": [
    "## CNN Model with 3 Hidden Layers & Class_weights balancing."
   ]
  },
  {
   "cell_type": "code",
   "execution_count": 2,
   "metadata": {},
   "outputs": [],
   "source": [
    "# Model parameters\n",
    "image_size = 256\n",
    "batch_size = 32\n",
    "num_classes = 4\n",
    "epochs = 10"
   ]
  },
  {
   "cell_type": "code",
   "execution_count": 3,
   "metadata": {},
   "outputs": [
    {
     "name": "stdout",
     "output_type": "stream",
     "text": [
      "_________________________________________________________________\n",
      "Layer (type)                 Output Shape              Param #   \n",
      "=================================================================\n",
      "conv2d_1 (Conv2D)            (None, 254, 254, 256)     7168      \n",
      "_________________________________________________________________\n",
      "batch_normalization_1 (Batch (None, 254, 254, 256)     1024      \n",
      "_________________________________________________________________\n",
      "max_pooling2d_1 (MaxPooling2 (None, 127, 127, 256)     0         \n",
      "_________________________________________________________________\n",
      "dropout_1 (Dropout)          (None, 127, 127, 256)     0         \n",
      "_________________________________________________________________\n",
      "conv2d_2 (Conv2D)            (None, 125, 125, 128)     295040    \n",
      "_________________________________________________________________\n",
      "batch_normalization_2 (Batch (None, 125, 125, 128)     512       \n",
      "_________________________________________________________________\n",
      "max_pooling2d_2 (MaxPooling2 (None, 62, 62, 128)       0         \n",
      "_________________________________________________________________\n",
      "dropout_2 (Dropout)          (None, 62, 62, 128)       0         \n",
      "_________________________________________________________________\n",
      "conv2d_3 (Conv2D)            (None, 60, 60, 64)        73792     \n",
      "_________________________________________________________________\n",
      "batch_normalization_3 (Batch (None, 60, 60, 64)        256       \n",
      "_________________________________________________________________\n",
      "dropout_3 (Dropout)          (None, 60, 60, 64)        0         \n",
      "_________________________________________________________________\n",
      "flatten_1 (Flatten)          (None, 230400)            0         \n",
      "_________________________________________________________________\n",
      "dense_1 (Dense)              (None, 64)                14745664  \n",
      "_________________________________________________________________\n",
      "batch_normalization_4 (Batch (None, 64)                256       \n",
      "_________________________________________________________________\n",
      "dropout_4 (Dropout)          (None, 64)                0         \n",
      "_________________________________________________________________\n",
      "dense_2 (Dense)              (None, 4)                 260       \n",
      "=================================================================\n",
      "Total params: 15,123,972\n",
      "Trainable params: 15,122,948\n",
      "Non-trainable params: 1,024\n",
      "_________________________________________________________________\n",
      "None\n"
     ]
    }
   ],
   "source": [
    "# Baseline Model.\n",
    "model = Sequential()\n",
    "model.add(Conv2D(256, kernel_size=(3, 3), activation='relu', input_shape=(image_size, image_size,3)))\n",
    "model.add(BatchNormalization())\n",
    "model.add(MaxPooling2D((2, 2)))\n",
    "model.add(Dropout(0.25))\n",
    "\n",
    "model.add(Conv2D(128, kernel_size=(3, 3), activation='relu'))\n",
    "model.add(BatchNormalization())\n",
    "model.add(MaxPooling2D(pool_size=(2, 2)))\n",
    "model.add(Dropout(0.25))\n",
    "\n",
    "model.add(Conv2D(64, kernel_size=(3, 3), activation='relu'))\n",
    "model.add(BatchNormalization())\n",
    "model.add(Dropout(0.25))\n",
    "\n",
    "model.add(Flatten())\n",
    "\n",
    "model.add(Dense(64, activation='relu'))\n",
    "model.add(BatchNormalization())\n",
    "model.add(Dropout(0.5))\n",
    "\n",
    "model.add(Dense(num_classes, activation='softmax'))\n",
    "\n",
    "print(model.summary())\n",
    "\n",
    "model.compile(loss=keras.losses.categorical_crossentropy, optimizer=keras.optimizers.Adam(),metrics=['accuracy'])"
   ]
  },
  {
   "cell_type": "code",
   "execution_count": 5,
   "metadata": {},
   "outputs": [
    {
     "name": "stdout",
     "output_type": "stream",
     "text": [
      "Found 66788 images belonging to 4 classes.\n",
      "Found 16696 images belonging to 4 classes.\n",
      "Found 1000 images belonging to 4 classes.\n"
     ]
    }
   ],
   "source": [
    "train_datagen = ImageDataGenerator(validation_split=0.2) # set validation split\n",
    "\n",
    "train_generator = train_datagen.flow_from_directory('OCT2017/train',target_size=(image_size, image_size),\n",
    "                                                    batch_size=batch_size,\n",
    "                                                    class_mode='categorical',\n",
    "                                                    subset='training') # set as training data\n",
    "\n",
    "validation_generator = train_datagen.flow_from_directory('OCT2017/train',target_size=(image_size,image_size),\n",
    "                                                         batch_size=batch_size,\n",
    "                                                         class_mode='categorical',\n",
    "                                                         subset='validation') # set as validation data\n",
    "\n",
    "\n",
    "test_datagen = ImageDataGenerator()\n",
    "\n",
    "test_generator = test_datagen.flow_from_directory(\"OCT2017/test\",target_size=(image_size, image_size),\n",
    "                                                  batch_size=batch_size,\n",
    "                                                  class_mode='categorical')"
   ]
  },
  {
   "cell_type": "code",
   "execution_count": 6,
   "metadata": {},
   "outputs": [],
   "source": [
    "# https://stackoverflow.com/questions/41815354/keras-flow-from-directory-over-or-undersample-a-class/48050531\n",
    "class_weights = class_weight.compute_class_weight('balanced',\n",
    "                                                  np.unique(train_generator.classes),\n",
    "                                                  train_generator.classes)"
   ]
  },
  {
   "cell_type": "code",
   "execution_count": 7,
   "metadata": {},
   "outputs": [],
   "source": [
    "filepath=\"weights_balanced_cnn_best.hdf5\"\n",
    "checkpoint = ModelCheckpoint(filepath, monitor='val_acc', verbose=1, save_best_only=True, mode='max')\n",
    "callbacks_list = [checkpoint]"
   ]
  },
  {
   "cell_type": "code",
   "execution_count": 8,
   "metadata": {},
   "outputs": [
    {
     "name": "stdout",
     "output_type": "stream",
     "text": [
      "Epoch 1/10\n",
      "2087/2087 [==============================] - 662s 317ms/step - loss: 0.7140 - acc: 0.7462 - val_loss: 0.5367 - val_acc: 0.8152\n",
      "\n",
      "Epoch 00001: val_acc improved from -inf to 0.81520, saving model to weights_balanced_cnn_best.hdf5\n",
      "Epoch 2/10\n",
      "2087/2087 [==============================] - 656s 314ms/step - loss: 0.4119 - acc: 0.8531 - val_loss: 0.5835 - val_acc: 0.7969\n",
      "\n",
      "Epoch 00002: val_acc did not improve from 0.81520\n",
      "Epoch 3/10\n",
      "2087/2087 [==============================] - 655s 314ms/step - loss: 0.2796 - acc: 0.9035 - val_loss: 0.3391 - val_acc: 0.8806\n",
      "\n",
      "Epoch 00003: val_acc improved from 0.81520 to 0.88058, saving model to weights_balanced_cnn_best.hdf5\n",
      "Epoch 4/10\n",
      "2087/2087 [==============================] - 654s 314ms/step - loss: 0.2185 - acc: 0.9247 - val_loss: 0.3995 - val_acc: 0.8789\n",
      "\n",
      "Epoch 00004: val_acc did not improve from 0.88058\n",
      "Epoch 5/10\n",
      "2087/2087 [==============================] - 656s 314ms/step - loss: 0.1701 - acc: 0.9413 - val_loss: 0.4862 - val_acc: 0.8718\n",
      "\n",
      "Epoch 00005: val_acc did not improve from 0.88058\n",
      "Epoch 6/10\n",
      "2087/2087 [==============================] - 655s 314ms/step - loss: 0.1310 - acc: 0.9554 - val_loss: 0.3683 - val_acc: 0.8860\n",
      "\n",
      "Epoch 00006: val_acc improved from 0.88058 to 0.88598, saving model to weights_balanced_cnn_best.hdf5\n",
      "Epoch 7/10\n",
      "2087/2087 [==============================] - 654s 314ms/step - loss: 0.1097 - acc: 0.9617 - val_loss: 0.3662 - val_acc: 0.8922\n",
      "\n",
      "Epoch 00007: val_acc improved from 0.88598 to 0.89222, saving model to weights_balanced_cnn_best.hdf5\n",
      "Epoch 8/10\n",
      "2087/2087 [==============================] - 656s 314ms/step - loss: 0.0949 - acc: 0.9674 - val_loss: 1.3094 - val_acc: 0.8271\n",
      "\n",
      "Epoch 00008: val_acc did not improve from 0.89222\n",
      "Epoch 9/10\n",
      "2087/2087 [==============================] - 656s 314ms/step - loss: 0.0843 - acc: 0.9719 - val_loss: 0.4116 - val_acc: 0.8945\n",
      "\n",
      "Epoch 00009: val_acc improved from 0.89222 to 0.89450, saving model to weights_balanced_cnn_best.hdf5\n",
      "Epoch 10/10\n",
      "2087/2087 [==============================] - 656s 314ms/step - loss: 0.0743 - acc: 0.9743 - val_loss: 0.5905 - val_acc: 0.8911\n",
      "\n",
      "Epoch 00010: val_acc did not improve from 0.89450\n"
     ]
    }
   ],
   "source": [
    "# Train the network\n",
    "history = model.fit_generator(train_generator,\n",
    "                              steps_per_epoch = train_generator.samples // batch_size,\n",
    "                              validation_data = validation_generator,\n",
    "                              validation_steps = validation_generator.samples // batch_size,\n",
    "                              epochs = epochs, \n",
    "                              callbacks=callbacks_list,\n",
    "                              class_weight=class_weights)"
   ]
  },
  {
   "cell_type": "code",
   "execution_count": 9,
   "metadata": {},
   "outputs": [],
   "source": [
    "# serialize model to JSON\n",
    "model_json = model.to_json()\n",
    "with open(\"model_balanced_cnn.json\", \"w\") as json_file:\n",
    "    json_file.write(model_json)"
   ]
  },
  {
   "cell_type": "code",
   "execution_count": 10,
   "metadata": {},
   "outputs": [
    {
     "name": "stdout",
     "output_type": "stream",
     "text": [
      "\n",
      "\n",
      "\n",
      "Test Loss: 0.23170399683858117\n",
      "Test accuracy: 0.9405241935483871\n"
     ]
    },
    {
     "data": {
      "image/png": "[encoded data removed]",
      "text/plain": [
       "<Figure size 432x288 with 1 Axes>"
      ]
     },
     "metadata": {},
     "output_type": "display_data"
    }
   ],
   "source": [
    "score = model.evaluate_generator(test_generator,steps = test_generator.samples // batch_size) \n",
    "print(\"\\n\\n\")\n",
    "print('Test Loss:', score[0])\n",
    "print('Test accuracy:', score[1])\n",
    "\n",
    "# https://gist.github.com/greydanus/f6eee59eaf1d90fcb3b534a25362cea4\n",
    "# https://stackoverflow.com/a/14434334\n",
    "# This function is used to update the plots for each epoch and error\n",
    "def plt_dynamic(x, vy, ty, ax, colors=['b']):\n",
    "    ax.plot(x, vy, 'b', label=\"Validation Loss\")\n",
    "    ax.plot(x, ty, 'r', label=\"Train Loss\")\n",
    "    plt.legend()\n",
    "    plt.grid()\n",
    "    fig.canvas.draw()\n",
    "\n",
    "fig,ax = plt.subplots(1,1)\n",
    "ax.set_xlabel('epoch') \n",
    "ax.set_ylabel('Categorical Crossentropy Loss')\n",
    "\n",
    "# list of epoch numbers\n",
    "x = list(range(1,epochs+1))\n",
    "\n",
    "vy = history.history['val_loss']\n",
    "ty = history.history['loss']\n",
    "plt_dynamic(x, vy, ty, ax)"
   ]
  },
  {
   "cell_type": "code",
   "execution_count": 28,
   "metadata": {},
   "outputs": [],
   "source": [
    "from keras.models import load_model\n",
    "model = load_model('weights_balanced_cnn_best.hdf5')"
   ]
  },
  {
   "cell_type": "code",
   "execution_count": 29,
   "metadata": {},
   "outputs": [
    {
     "name": "stdout",
     "output_type": "stream",
     "text": [
      "Found 1000 images belonging to 4 classes.\n"
     ]
    }
   ],
   "source": [
    "pred_datagen = ImageDataGenerator()\n",
    "\n",
    "pred_generator = pred_datagen.flow_from_directory(\"OCT2017/test\",target_size=(image_size, image_size),\n",
    "                                                  batch_size=1,\n",
    "                                                  class_mode='categorical',\n",
    "                                                  shuffle = False)                                                  "
   ]
  },
  {
   "cell_type": "code",
   "execution_count": 30,
   "metadata": {},
   "outputs": [],
   "source": [
    "pred_generator.reset()\n",
    "y_pred = model.predict_generator(pred_generator,steps = 1000)\n",
    "Y_test = pred_generator.classes[pred_generator.index_array]\n",
    "Y_pred = np.argmax(y_pred, axis=-1)"
   ]
  },
  {
   "cell_type": "code",
   "execution_count": 31,
   "metadata": {},
   "outputs": [],
   "source": [
    "Y_pred = np.argmax(y_pred,axis = 1) "
   ]
  },
  {
   "cell_type": "code",
   "execution_count": 32,
   "metadata": {},
   "outputs": [],
   "source": [
    "import pickle\n",
    "with open('y_pred_balanced_cnn_best.pkl','wb') as f:\n",
    "    pickle.dump(y_pred, f)"
   ]
  },
  {
   "cell_type": "code",
   "execution_count": 33,
   "metadata": {},
   "outputs": [
    {
     "name": "stdout",
     "output_type": "stream",
     "text": [
      "--------------------\n",
      "| Confusion Matrix |\n",
      "--------------------\n",
      "\n",
      " [[247   3   0   0]\n",
      " [ 13 223   0  14]\n",
      " [  2   0 247   1]\n",
      " [  0   0   0 250]]\n"
     ]
    },
    {
     "data": {
      "image/png": "[encoded data removed]",
      "text/plain": [
       "<Figure size 576x576 with 2 Axes>"
      ]
     },
     "metadata": {},
     "output_type": "display_data"
    }
   ],
   "source": [
    "# confusion matrix\n",
    "cm = confusion_matrix(Y_test, Y_pred)\n",
    " \n",
    "print('--------------------')\n",
    "print('| Confusion Matrix |')\n",
    "print('--------------------')\n",
    "print('\\n {}'.format(cm))\n",
    "        \n",
    "# plot confusin matrix\n",
    "plt.figure(figsize=(8,8))\n",
    "plt.grid(b=False)\n",
    "plot_confusion_matrix(cm, classes=['CNV','DME','DRUSEN','NORMAL'], normalize=False, \n",
    "                      title='Confusion matrix', cmap = plt.cm.Blues)\n",
    "plt.show()"
   ]
  },
  {
   "cell_type": "code",
   "execution_count": 34,
   "metadata": {},
   "outputs": [
    {
     "name": "stdout",
     "output_type": "stream",
     "text": [
      "              precision    recall  f1-score   support\n",
      "\n",
      "         CNV       0.94      0.99      0.96       250\n",
      "         DME       0.99      0.89      0.94       250\n",
      "      DRUSEN       1.00      0.99      0.99       250\n",
      "      Normal       0.94      1.00      0.97       250\n",
      "\n",
      "   micro avg       0.97      0.97      0.97      1000\n",
      "   macro avg       0.97      0.97      0.97      1000\n",
      "weighted avg       0.97      0.97      0.97      1000\n",
      "\n"
     ]
    }
   ],
   "source": [
    "from sklearn.metrics import classification_report\n",
    "print(classification_report(Y_test,Y_pred,target_names=['CNV','DME','DRUSEN','Normal']))"
   ]
  },
  {
   "cell_type": "markdown",
   "metadata": {},
   "source": [
    "### Observations:\n",
    "1. We have 3 hidden layers in this CNN model.\n",
    "2. **Test Loss: 0.231**\n",
    "3. **Test accuracy: 0.94**\n",
    "4. **precision = 0.97 || recall = 0.97 || f1-score = 0.97**\n",
    "3. **Class weights balancing has dtastically improved Test Loss & Test accuracy**"
   ]
  },
  {
   "cell_type": "markdown",
   "metadata": {},
   "source": [
    "## CNN Model with 5 Hidden Layers."
   ]
  },
  {
   "cell_type": "code",
   "execution_count": 15,
   "metadata": {},
   "outputs": [],
   "source": [
    "# Model parameters\n",
    "image_size = 256\n",
    "batch_size = 32\n",
    "num_classes = 4\n",
    "epochs = 10"
   ]
  },
  {
   "cell_type": "code",
   "execution_count": 16,
   "metadata": {},
   "outputs": [
    {
     "name": "stdout",
     "output_type": "stream",
     "text": [
      "_________________________________________________________________\n",
      "Layer (type)                 Output Shape              Param #   \n",
      "=================================================================\n",
      "conv2d_11 (Conv2D)           (None, 254, 254, 256)     7168      \n",
      "_________________________________________________________________\n",
      "batch_normalization_13 (Batc (None, 254, 254, 256)     1024      \n",
      "_________________________________________________________________\n",
      "max_pooling2d_7 (MaxPooling2 (None, 127, 127, 256)     0         \n",
      "_________________________________________________________________\n",
      "dropout_13 (Dropout)         (None, 127, 127, 256)     0         \n",
      "_________________________________________________________________\n",
      "conv2d_12 (Conv2D)           (None, 125, 125, 256)     590080    \n",
      "_________________________________________________________________\n",
      "batch_normalization_14 (Batc (None, 125, 125, 256)     1024      \n",
      "_________________________________________________________________\n",
      "max_pooling2d_8 (MaxPooling2 (None, 62, 62, 256)       0         \n",
      "_________________________________________________________________\n",
      "dropout_14 (Dropout)         (None, 62, 62, 256)       0         \n",
      "_________________________________________________________________\n",
      "conv2d_13 (Conv2D)           (None, 60, 60, 128)       295040    \n",
      "_________________________________________________________________\n",
      "batch_normalization_15 (Batc (None, 60, 60, 128)       512       \n",
      "_________________________________________________________________\n",
      "max_pooling2d_9 (MaxPooling2 (None, 30, 30, 128)       0         \n",
      "_________________________________________________________________\n",
      "dropout_15 (Dropout)         (None, 30, 30, 128)       0         \n",
      "_________________________________________________________________\n",
      "conv2d_14 (Conv2D)           (None, 28, 28, 64)        73792     \n",
      "_________________________________________________________________\n",
      "batch_normalization_16 (Batc (None, 28, 28, 64)        256       \n",
      "_________________________________________________________________\n",
      "dropout_16 (Dropout)         (None, 28, 28, 64)        0         \n",
      "_________________________________________________________________\n",
      "conv2d_15 (Conv2D)           (None, 26, 26, 32)        18464     \n",
      "_________________________________________________________________\n",
      "batch_normalization_17 (Batc (None, 26, 26, 32)        128       \n",
      "_________________________________________________________________\n",
      "dropout_17 (Dropout)         (None, 26, 26, 32)        0         \n",
      "_________________________________________________________________\n",
      "flatten_3 (Flatten)          (None, 21632)             0         \n",
      "_________________________________________________________________\n",
      "dense_5 (Dense)              (None, 32)                692256    \n",
      "_________________________________________________________________\n",
      "batch_normalization_18 (Batc (None, 32)                128       \n",
      "_________________________________________________________________\n",
      "dropout_18 (Dropout)         (None, 32)                0         \n",
      "_________________________________________________________________\n",
      "dense_6 (Dense)              (None, 4)                 132       \n",
      "=================================================================\n",
      "Total params: 1,680,004\n",
      "Trainable params: 1,678,468\n",
      "Non-trainable params: 1,536\n",
      "_________________________________________________________________\n",
      "None\n"
     ]
    }
   ],
   "source": [
    "# Baseline Model.\n",
    "model = Sequential()\n",
    "model.add(Conv2D(256, kernel_size=(3, 3), activation='relu', input_shape=(image_size, image_size,3)))\n",
    "model.add(BatchNormalization())\n",
    "model.add(MaxPooling2D((2, 2)))\n",
    "model.add(Dropout(0.4))\n",
    "\n",
    "model.add(Conv2D(256, kernel_size=(3, 3), activation='relu'))\n",
    "model.add(BatchNormalization())\n",
    "model.add(MaxPooling2D(pool_size=(2, 2)))\n",
    "model.add(Dropout(0.4))\n",
    "\n",
    "model.add(Conv2D(128, kernel_size=(3, 3), activation='relu'))\n",
    "model.add(BatchNormalization())\n",
    "model.add(MaxPooling2D(pool_size=(2, 2)))\n",
    "model.add(Dropout(0.4))\n",
    "\n",
    "model.add(Conv2D(64, kernel_size=(3, 3), activation='relu'))\n",
    "model.add(BatchNormalization())\n",
    "model.add(Dropout(0.4))\n",
    "\n",
    "model.add(Conv2D(32, kernel_size=(3, 3), activation='relu'))\n",
    "model.add(BatchNormalization())\n",
    "model.add(Dropout(0.5))\n",
    "\n",
    "model.add(Flatten())\n",
    "\n",
    "model.add(Dense(32, activation='relu'))\n",
    "model.add(BatchNormalization())\n",
    "model.add(Dropout(0.5))\n",
    "\n",
    "model.add(Dense(num_classes, activation='softmax'))\n",
    "\n",
    "print(model.summary())\n",
    "\n",
    "model.compile(loss=keras.losses.categorical_crossentropy, optimizer=keras.optimizers.Adam(),metrics=['accuracy'])"
   ]
  },
  {
   "cell_type": "code",
   "execution_count": 17,
   "metadata": {},
   "outputs": [
    {
     "name": "stdout",
     "output_type": "stream",
     "text": [
      "Found 66788 images belonging to 4 classes.\n",
      "Found 16696 images belonging to 4 classes.\n",
      "Found 1000 images belonging to 4 classes.\n"
     ]
    }
   ],
   "source": [
    "train_datagen = ImageDataGenerator(validation_split=0.2) # set validation split\n",
    "\n",
    "train_generator = train_datagen.flow_from_directory('OCT2017/train',target_size=(image_size, image_size),\n",
    "                                                    batch_size=batch_size,\n",
    "                                                    class_mode='categorical',\n",
    "                                                    subset='training') # set as training data\n",
    "\n",
    "validation_generator = train_datagen.flow_from_directory('OCT2017/train',target_size=(image_size,image_size),\n",
    "                                                         batch_size=batch_size,\n",
    "                                                         class_mode='categorical',\n",
    "                                                         subset='validation') # set as validation data\n",
    "\n",
    "\n",
    "test_datagen = ImageDataGenerator()\n",
    "\n",
    "test_generator = test_datagen.flow_from_directory(\"OCT2017/test\",target_size=(image_size, image_size),\n",
    "                                                  batch_size=batch_size,\n",
    "                                                  class_mode='categorical')"
   ]
  },
  {
   "cell_type": "code",
   "execution_count": 18,
   "metadata": {},
   "outputs": [],
   "source": [
    "# https://stackoverflow.com/questions/41815354/keras-flow-from-directory-over-or-undersample-a-class/48050531\n",
    "class_weights = class_weight.compute_class_weight('balanced',\n",
    "                                                  np.unique(train_generator.classes),\n",
    "                                                  train_generator.classes)"
   ]
  },
  {
   "cell_type": "code",
   "execution_count": 19,
   "metadata": {},
   "outputs": [],
   "source": [
    "filepath=\"weights_balanced_cnn_5layered_best.hdf5\"\n",
    "checkpoint = ModelCheckpoint(filepath, monitor='val_acc', verbose=1, save_best_only=True, mode='max')\n",
    "callbacks_list = [checkpoint]"
   ]
  },
  {
   "cell_type": "code",
   "execution_count": 20,
   "metadata": {},
   "outputs": [
    {
     "name": "stdout",
     "output_type": "stream",
     "text": [
      "Epoch 1/10\n",
      "2087/2087 [==============================] - 792s 379ms/step - loss: 0.6870 - acc: 0.7516 - val_loss: 0.7913 - val_acc: 0.6535\n",
      "\n",
      "Epoch 00001: val_acc improved from -inf to 0.65349, saving model to weights_balanced_cnn_5layered_best.hdf5\n",
      "Epoch 2/10\n",
      "2087/2087 [==============================] - 792s 380ms/step - loss: 0.3850 - acc: 0.8665 - val_loss: 0.3890 - val_acc: 0.8713\n",
      "\n",
      "Epoch 00002: val_acc improved from 0.65349 to 0.87128, saving model to weights_balanced_cnn_5layered_best.hdf5\n",
      "Epoch 3/10\n",
      "2087/2087 [==============================] - 788s 378ms/step - loss: 0.3001 - acc: 0.9015 - val_loss: 0.6034 - val_acc: 0.8359\n",
      "\n",
      "Epoch 00003: val_acc did not improve from 0.87128\n",
      "Epoch 4/10\n",
      "2087/2087 [==============================] - 788s 378ms/step - loss: 0.2667 - acc: 0.9131 - val_loss: 0.2265 - val_acc: 0.9247\n",
      "\n",
      "Epoch 00004: val_acc improved from 0.87128 to 0.92469, saving model to weights_balanced_cnn_5layered_best.hdf5\n",
      "Epoch 5/10\n",
      "2087/2087 [==============================] - 789s 378ms/step - loss: 0.2301 - acc: 0.9257 - val_loss: 0.3374 - val_acc: 0.8883\n",
      "\n",
      "Epoch 00005: val_acc did not improve from 0.92469\n",
      "Epoch 6/10\n",
      "2087/2087 [==============================] - 788s 378ms/step - loss: 0.2154 - acc: 0.9308 - val_loss: 0.1707 - val_acc: 0.9440\n",
      "\n",
      "Epoch 00006: val_acc improved from 0.92469 to 0.94395, saving model to weights_balanced_cnn_5layered_best.hdf5\n",
      "Epoch 7/10\n",
      "2087/2087 [==============================] - 792s 379ms/step - loss: 0.2022 - acc: 0.9352 - val_loss: 0.2008 - val_acc: 0.9305\n",
      "\n",
      "Epoch 00007: val_acc did not improve from 0.94395\n",
      "Epoch 8/10\n",
      "2087/2087 [==============================] - 789s 378ms/step - loss: 0.1868 - acc: 0.9405 - val_loss: 0.2611 - val_acc: 0.9224\n",
      "\n",
      "Epoch 00008: val_acc did not improve from 0.94395\n",
      "Epoch 9/10\n",
      "2087/2087 [==============================] - 788s 378ms/step - loss: 0.1786 - acc: 0.9427 - val_loss: 0.1561 - val_acc: 0.9487\n",
      "\n",
      "Epoch 00009: val_acc improved from 0.94395 to 0.94869, saving model to weights_balanced_cnn_5layered_best.hdf5\n",
      "Epoch 10/10\n",
      "2087/2087 [==============================] - 788s 378ms/step - loss: 0.1752 - acc: 0.9433 - val_loss: 0.1856 - val_acc: 0.9375\n",
      "\n",
      "Epoch 00010: val_acc did not improve from 0.94869\n"
     ]
    }
   ],
   "source": [
    "# Train the network\n",
    "history = model.fit_generator(train_generator,\n",
    "                              steps_per_epoch = train_generator.samples // batch_size,\n",
    "                              validation_data = validation_generator,\n",
    "                              validation_steps = validation_generator.samples // batch_size,\n",
    "                              epochs = epochs, \n",
    "                              callbacks=callbacks_list,\n",
    "                              class_weight=class_weights)"
   ]
  },
  {
   "cell_type": "code",
   "execution_count": 21,
   "metadata": {},
   "outputs": [],
   "source": [
    "# serialize model to JSON\n",
    "model_json = model.to_json()\n",
    "with open(\"model_balanced_cnn5layered.json\", \"w\") as json_file:\n",
    "    json_file.write(model_json)"
   ]
  },
  {
   "cell_type": "code",
   "execution_count": 22,
   "metadata": {},
   "outputs": [
    {
     "name": "stdout",
     "output_type": "stream",
     "text": [
      "\n",
      "\n",
      "\n",
      "Test Loss: 0.04069264918085067\n",
      "Test accuracy: 0.9899193548387096\n"
     ]
    },
    {
     "data": {
      "image/png": "[encoded data removed]",
      "text/plain": [
       "<Figure size 432x288 with 1 Axes>"
      ]
     },
     "metadata": {},
     "output_type": "display_data"
    }
   ],
   "source": [
    "score = model.evaluate_generator(test_generator,steps = test_generator.samples // batch_size) \n",
    "print(\"\\n\\n\")\n",
    "print('Test Loss:', score[0])\n",
    "print('Test accuracy:', score[1])\n",
    "\n",
    "# https://gist.github.com/greydanus/f6eee59eaf1d90fcb3b534a25362cea4\n",
    "# https://stackoverflow.com/a/14434334\n",
    "# This function is used to update the plots for each epoch and error\n",
    "def plt_dynamic(x, vy, ty, ax, colors=['b']):\n",
    "    ax.plot(x, vy, 'b', label=\"Validation Loss\")\n",
    "    ax.plot(x, ty, 'r', label=\"Train Loss\")\n",
    "    plt.legend()\n",
    "    plt.grid()\n",
    "    fig.canvas.draw()\n",
    "\n",
    "fig,ax = plt.subplots(1,1)\n",
    "ax.set_xlabel('epoch') \n",
    "ax.set_ylabel('Categorical Crossentropy Loss')\n",
    "\n",
    "# list of epoch numbers\n",
    "x = list(range(1,epochs+1))\n",
    "\n",
    "vy = history.history['val_loss']\n",
    "ty = history.history['loss']\n",
    "plt_dynamic(x, vy, ty, ax)"
   ]
  },
  {
   "cell_type": "code",
   "execution_count": 35,
   "metadata": {},
   "outputs": [],
   "source": [
    "from keras.models import load_model\n",
    "model = load_model('weights_balanced_cnn_5layered_best.hdf5')"
   ]
  },
  {
   "cell_type": "code",
   "execution_count": 36,
   "metadata": {},
   "outputs": [
    {
     "name": "stdout",
     "output_type": "stream",
     "text": [
      "Found 1000 images belonging to 4 classes.\n"
     ]
    }
   ],
   "source": [
    "pred_datagen = ImageDataGenerator()\n",
    "\n",
    "pred_generator = pred_datagen.flow_from_directory(\"OCT2017/test\",target_size=(image_size, image_size),\n",
    "                                                  batch_size=1,\n",
    "                                                  class_mode='categorical',\n",
    "                                                  shuffle = False)                                                  "
   ]
  },
  {
   "cell_type": "code",
   "execution_count": 37,
   "metadata": {},
   "outputs": [],
   "source": [
    "pred_generator.reset()\n",
    "y_pred = model.predict_generator(pred_generator,steps = 1000)\n",
    "Y_test = pred_generator.classes[pred_generator.index_array]\n",
    "Y_pred = np.argmax(y_pred, axis=-1)"
   ]
  },
  {
   "cell_type": "code",
   "execution_count": 38,
   "metadata": {},
   "outputs": [],
   "source": [
    "import pickle\n",
    "with open('y_pred_balanced_cnn_5layered_best.pkl','wb') as f:\n",
    "    pickle.dump(y_pred, f)"
   ]
  },
  {
   "cell_type": "code",
   "execution_count": 39,
   "metadata": {},
   "outputs": [
    {
     "name": "stdout",
     "output_type": "stream",
     "text": [
      "--------------------\n",
      "| Confusion Matrix |\n",
      "--------------------\n",
      "\n",
      " [[250   0   0   0]\n",
      " [  9 240   0   1]\n",
      " [  7   0 243   0]\n",
      " [  0   0   0 250]]\n"
     ]
    },
    {
     "data": {
      "image/png": "[encoded data removed]",
      "text/plain": [
       "<Figure size 576x576 with 2 Axes>"
      ]
     },
     "metadata": {},
     "output_type": "display_data"
    }
   ],
   "source": [
    "# confusion matrix\n",
    "cm = confusion_matrix(Y_test, Y_pred)\n",
    " \n",
    "print('--------------------')\n",
    "print('| Confusion Matrix |')\n",
    "print('--------------------')\n",
    "print('\\n {}'.format(cm))\n",
    "        \n",
    "# plot confusin matrix\n",
    "plt.figure(figsize=(8,8))\n",
    "plt.grid(b=False)\n",
    "plot_confusion_matrix(cm, classes=['CNV','DME','DRUSEN','NORMAL'], normalize=False, \n",
    "                      title='Confusion matrix', cmap = plt.cm.Blues)\n",
    "plt.show()"
   ]
  },
  {
   "cell_type": "code",
   "execution_count": 40,
   "metadata": {
    "scrolled": true
   },
   "outputs": [
    {
     "name": "stdout",
     "output_type": "stream",
     "text": [
      "              precision    recall  f1-score   support\n",
      "\n",
      "         CNV       0.94      1.00      0.97       250\n",
      "         DME       1.00      0.96      0.98       250\n",
      "      DRUSEN       1.00      0.97      0.99       250\n",
      "      Normal       1.00      1.00      1.00       250\n",
      "\n",
      "   micro avg       0.98      0.98      0.98      1000\n",
      "   macro avg       0.98      0.98      0.98      1000\n",
      "weighted avg       0.98      0.98      0.98      1000\n",
      "\n"
     ]
    }
   ],
   "source": [
    "from sklearn.metrics import classification_report\n",
    "print(classification_report(Y_test,Y_pred,target_names=['CNV','DME','DRUSEN','Normal']))"
   ]
  },
  {
   "cell_type": "markdown",
   "metadata": {},
   "source": [
    "### Observations:\n",
    "1. We have 5 hidden layers in this CNN model.\n",
    "2. **Test Loss: 0.040**\n",
    "3. **Test accuracy: 0.989**\n",
    "4. **precision = 0.98 || recall = 0.98 || f1-score = 0.98**\n",
    "3. **CNN model with 5 hidden layers perform brilliantly.**"
   ]
  },
  {
   "cell_type": "markdown",
   "metadata": {},
   "source": [
    "## CNN Model with 7 Hidden Layers."
   ]
  },
  {
   "cell_type": "code",
   "execution_count": 2,
   "metadata": {},
   "outputs": [],
   "source": [
    "# Model parameters\n",
    "image_size = 256\n",
    "batch_size = 32\n",
    "num_classes = 4\n",
    "epochs = 10"
   ]
  },
  {
   "cell_type": "code",
   "execution_count": 3,
   "metadata": {},
   "outputs": [
    {
     "name": "stdout",
     "output_type": "stream",
     "text": [
      "_________________________________________________________________\n",
      "Layer (type)                 Output Shape              Param #   \n",
      "=================================================================\n",
      "conv2d_1 (Conv2D)            (None, 254, 254, 256)     7168      \n",
      "_________________________________________________________________\n",
      "batch_normalization_1 (Batch (None, 254, 254, 256)     1024      \n",
      "_________________________________________________________________\n",
      "max_pooling2d_1 (MaxPooling2 (None, 127, 127, 256)     0         \n",
      "_________________________________________________________________\n",
      "dropout_1 (Dropout)          (None, 127, 127, 256)     0         \n",
      "_________________________________________________________________\n",
      "conv2d_2 (Conv2D)            (None, 125, 125, 256)     590080    \n",
      "_________________________________________________________________\n",
      "batch_normalization_2 (Batch (None, 125, 125, 256)     1024      \n",
      "_________________________________________________________________\n",
      "max_pooling2d_2 (MaxPooling2 (None, 62, 62, 256)       0         \n",
      "_________________________________________________________________\n",
      "dropout_2 (Dropout)          (None, 62, 62, 256)       0         \n",
      "_________________________________________________________________\n",
      "conv2d_3 (Conv2D)            (None, 60, 60, 128)       295040    \n",
      "_________________________________________________________________\n",
      "batch_normalization_3 (Batch (None, 60, 60, 128)       512       \n",
      "_________________________________________________________________\n",
      "max_pooling2d_3 (MaxPooling2 (None, 30, 30, 128)       0         \n",
      "_________________________________________________________________\n",
      "dropout_3 (Dropout)          (None, 30, 30, 128)       0         \n",
      "_________________________________________________________________\n",
      "conv2d_4 (Conv2D)            (None, 28, 28, 64)        73792     \n",
      "_________________________________________________________________\n",
      "batch_normalization_4 (Batch (None, 28, 28, 64)        256       \n",
      "_________________________________________________________________\n",
      "max_pooling2d_4 (MaxPooling2 (None, 14, 14, 64)        0         \n",
      "_________________________________________________________________\n",
      "dropout_4 (Dropout)          (None, 14, 14, 64)        0         \n",
      "_________________________________________________________________\n",
      "conv2d_5 (Conv2D)            (None, 12, 12, 64)        36928     \n",
      "_________________________________________________________________\n",
      "batch_normalization_5 (Batch (None, 12, 12, 64)        256       \n",
      "_________________________________________________________________\n",
      "dropout_5 (Dropout)          (None, 12, 12, 64)        0         \n",
      "_________________________________________________________________\n",
      "conv2d_6 (Conv2D)            (None, 10, 10, 32)        18464     \n",
      "_________________________________________________________________\n",
      "batch_normalization_6 (Batch (None, 10, 10, 32)        128       \n",
      "_________________________________________________________________\n",
      "dropout_6 (Dropout)          (None, 10, 10, 32)        0         \n",
      "_________________________________________________________________\n",
      "conv2d_7 (Conv2D)            (None, 8, 8, 32)          9248      \n",
      "_________________________________________________________________\n",
      "batch_normalization_7 (Batch (None, 8, 8, 32)          128       \n",
      "_________________________________________________________________\n",
      "dropout_7 (Dropout)          (None, 8, 8, 32)          0         \n",
      "_________________________________________________________________\n",
      "flatten_1 (Flatten)          (None, 2048)              0         \n",
      "_________________________________________________________________\n",
      "dense_1 (Dense)              (None, 32)                65568     \n",
      "_________________________________________________________________\n",
      "batch_normalization_8 (Batch (None, 32)                128       \n",
      "_________________________________________________________________\n",
      "dropout_8 (Dropout)          (None, 32)                0         \n",
      "_________________________________________________________________\n",
      "dense_2 (Dense)              (None, 32)                1056      \n",
      "_________________________________________________________________\n",
      "batch_normalization_9 (Batch (None, 32)                128       \n",
      "_________________________________________________________________\n",
      "dropout_9 (Dropout)          (None, 32)                0         \n",
      "_________________________________________________________________\n",
      "dense_3 (Dense)              (None, 4)                 132       \n",
      "=================================================================\n",
      "Total params: 1,101,060\n",
      "Trainable params: 1,099,268\n",
      "Non-trainable params: 1,792\n",
      "_________________________________________________________________\n",
      "None\n"
     ]
    }
   ],
   "source": [
    "# Baseline Model.\n",
    "model = Sequential()\n",
    "model.add(Conv2D(256, kernel_size=(3, 3), activation='relu', input_shape=(image_size, image_size,3)))\n",
    "model.add(BatchNormalization())\n",
    "model.add(MaxPooling2D((2, 2)))\n",
    "model.add(Dropout(0.5))\n",
    "\n",
    "model.add(Conv2D(256, kernel_size=(3, 3), activation='relu'))\n",
    "model.add(BatchNormalization())\n",
    "model.add(MaxPooling2D(pool_size=(2, 2)))\n",
    "model.add(Dropout(0.5))\n",
    "\n",
    "model.add(Conv2D(128, kernel_size=(3, 3), activation='relu'))\n",
    "model.add(BatchNormalization())\n",
    "model.add(MaxPooling2D(pool_size=(2, 2)))\n",
    "model.add(Dropout(0.5))\n",
    "\n",
    "model.add(Conv2D(64, kernel_size=(3, 3), activation='relu'))\n",
    "model.add(BatchNormalization())\n",
    "model.add(MaxPooling2D(pool_size=(2, 2)))\n",
    "model.add(Dropout(0.5))\n",
    "\n",
    "model.add(Conv2D(64, kernel_size=(3, 3), activation='relu'))\n",
    "model.add(BatchNormalization())\n",
    "model.add(Dropout(0.5))\n",
    "\n",
    "model.add(Conv2D(32, kernel_size=(3, 3), activation='relu'))\n",
    "model.add(BatchNormalization())\n",
    "model.add(Dropout(0.5))\n",
    "\n",
    "model.add(Conv2D(32, kernel_size=(3, 3), activation='relu'))\n",
    "model.add(BatchNormalization())\n",
    "model.add(Dropout(0.5))\n",
    "\n",
    "model.add(Flatten())\n",
    "\n",
    "model.add(Dense(32, activation='relu'))\n",
    "model.add(BatchNormalization())\n",
    "model.add(Dropout(0.5))\n",
    "\n",
    "model.add(Dense(32, activation='relu'))\n",
    "model.add(BatchNormalization())\n",
    "model.add(Dropout(0.5))\n",
    "\n",
    "model.add(Dense(num_classes, activation='softmax'))\n",
    "\n",
    "print(model.summary())\n",
    "\n",
    "model.compile(loss=keras.losses.categorical_crossentropy, optimizer=keras.optimizers.Adam(),metrics=['accuracy'])"
   ]
  },
  {
   "cell_type": "code",
   "execution_count": 4,
   "metadata": {},
   "outputs": [
    {
     "name": "stdout",
     "output_type": "stream",
     "text": [
      "Found 66788 images belonging to 4 classes.\n",
      "Found 16696 images belonging to 4 classes.\n",
      "Found 1000 images belonging to 4 classes.\n"
     ]
    }
   ],
   "source": [
    "train_datagen = ImageDataGenerator(validation_split=0.2) # set validation split\n",
    "\n",
    "train_generator = train_datagen.flow_from_directory('OCT2017/train',target_size=(image_size, image_size),\n",
    "                                                    batch_size=batch_size,\n",
    "                                                    class_mode='categorical',\n",
    "                                                    subset='training') # set as training data\n",
    "\n",
    "validation_generator = train_datagen.flow_from_directory('OCT2017/train',target_size=(image_size,image_size),\n",
    "                                                         batch_size=batch_size,\n",
    "                                                         class_mode='categorical',\n",
    "                                                         subset='validation') # set as validation data\n",
    "\n",
    "\n",
    "test_datagen = ImageDataGenerator()\n",
    "\n",
    "test_generator = test_datagen.flow_from_directory(\"OCT2017/test\",target_size=(image_size, image_size),\n",
    "                                                  batch_size=batch_size,\n",
    "                                                  class_mode='categorical')"
   ]
  },
  {
   "cell_type": "code",
   "execution_count": 5,
   "metadata": {},
   "outputs": [],
   "source": [
    "# https://stackoverflow.com/questions/41815354/keras-flow-from-directory-over-or-undersample-a-class/48050531\n",
    "class_weights = class_weight.compute_class_weight('balanced',\n",
    "                                                  np.unique(train_generator.classes),\n",
    "                                                  train_generator.classes)"
   ]
  },
  {
   "cell_type": "code",
   "execution_count": 6,
   "metadata": {},
   "outputs": [],
   "source": [
    "filepath=\"weights_balanced_cnn_7layered_best.hdf5\"\n",
    "checkpoint = ModelCheckpoint(filepath, monitor='val_acc', verbose=1, save_best_only=True, mode='max')\n",
    "callbacks_list = [checkpoint]"
   ]
  },
  {
   "cell_type": "code",
   "execution_count": 7,
   "metadata": {},
   "outputs": [
    {
     "name": "stdout",
     "output_type": "stream",
     "text": [
      "Epoch 1/10\n",
      "2087/2087 [==============================] - 804s 385ms/step - loss: 0.9618 - acc: 0.6413 - val_loss: 0.6447 - val_acc: 0.7742\n",
      "\n",
      "Epoch 00001: val_acc improved from -inf to 0.77417, saving model to weights_balanced_cnn_7layered_best.hdf5\n",
      "Epoch 2/10\n",
      "2087/2087 [==============================] - 796s 382ms/step - loss: 0.6232 - acc: 0.7831 - val_loss: 0.9382 - val_acc: 0.7429\n",
      "\n",
      "Epoch 00002: val_acc did not improve from 0.77417\n",
      "Epoch 3/10\n",
      "2087/2087 [==============================] - 798s 382ms/step - loss: 0.4749 - acc: 0.8392 - val_loss: 0.3435 - val_acc: 0.8875\n",
      "\n",
      "Epoch 00003: val_acc improved from 0.77417 to 0.88754, saving model to weights_balanced_cnn_7layered_best.hdf5\n",
      "Epoch 4/10\n",
      "2087/2087 [==============================] - 796s 381ms/step - loss: 0.3983 - acc: 0.8727 - val_loss: 0.3150 - val_acc: 0.9013\n",
      "\n",
      "Epoch 00004: val_acc improved from 0.88754 to 0.90134, saving model to weights_balanced_cnn_7layered_best.hdf5\n",
      "Epoch 5/10\n",
      "2087/2087 [==============================] - 796s 381ms/step - loss: 0.3405 - acc: 0.8948 - val_loss: 0.3556 - val_acc: 0.8907\n",
      "\n",
      "Epoch 00005: val_acc did not improve from 0.90134\n",
      "Epoch 6/10\n",
      "2087/2087 [==============================] - 794s 381ms/step - loss: 0.3174 - acc: 0.9029 - val_loss: 0.2525 - val_acc: 0.9235\n",
      "\n",
      "Epoch 00006: val_acc improved from 0.90134 to 0.92349, saving model to weights_balanced_cnn_7layered_best.hdf5\n",
      "Epoch 7/10\n",
      "2087/2087 [==============================] - 798s 383ms/step - loss: 0.2883 - acc: 0.9120 - val_loss: 0.2830 - val_acc: 0.9166\n",
      "\n",
      "Epoch 00007: val_acc did not improve from 0.92349\n",
      "Epoch 8/10\n",
      "2087/2087 [==============================] - 798s 383ms/step - loss: 0.2783 - acc: 0.9153 - val_loss: 0.2760 - val_acc: 0.9166\n",
      "\n",
      "Epoch 00008: val_acc did not improve from 0.92349\n",
      "Epoch 9/10\n",
      "2087/2087 [==============================] - 795s 381ms/step - loss: 0.2621 - acc: 0.9220 - val_loss: 0.2142 - val_acc: 0.9293\n",
      "\n",
      "Epoch 00009: val_acc improved from 0.92349 to 0.92931, saving model to weights_balanced_cnn_7layered_best.hdf5\n",
      "Epoch 10/10\n",
      "2087/2087 [==============================] - 796s 381ms/step - loss: 0.2545 - acc: 0.9246 - val_loss: 0.2062 - val_acc: 0.9348\n",
      "\n",
      "Epoch 00010: val_acc improved from 0.92931 to 0.93483, saving model to weights_balanced_cnn_7layered_best.hdf5\n"
     ]
    }
   ],
   "source": [
    "# Train the network\n",
    "history = model.fit_generator(train_generator,\n",
    "                              steps_per_epoch = train_generator.samples // batch_size,\n",
    "                              validation_data = validation_generator,\n",
    "                              validation_steps = validation_generator.samples // batch_size,\n",
    "                              epochs = epochs, \n",
    "                              callbacks=callbacks_list,\n",
    "                              class_weight=class_weights)"
   ]
  },
  {
   "cell_type": "code",
   "execution_count": 8,
   "metadata": {},
   "outputs": [],
   "source": [
    "# serialize model to JSON\n",
    "model_json = model.to_json()\n",
    "with open(\"model_balanced_cnn_7layered.json\", \"w\") as json_file:\n",
    "    json_file.write(model_json)"
   ]
  },
  {
   "cell_type": "code",
   "execution_count": 9,
   "metadata": {},
   "outputs": [
    {
     "name": "stdout",
     "output_type": "stream",
     "text": [
      "\n",
      "\n",
      "\n",
      "Test Loss: 0.08890247164714721\n",
      "Test accuracy: 0.9707661290322581\n"
     ]
    },
    {
     "data": {
      "image/png": "[encoded data removed]",
      "text/plain": [
       "<Figure size 432x288 with 1 Axes>"
      ]
     },
     "metadata": {},
     "output_type": "display_data"
    }
   ],
   "source": [
    "score = model.evaluate_generator(test_generator,steps = test_generator.samples // batch_size) \n",
    "print(\"\\n\\n\")\n",
    "print('Test Loss:', score[0])\n",
    "print('Test accuracy:', score[1])\n",
    "\n",
    "# https://gist.github.com/greydanus/f6eee59eaf1d90fcb3b534a25362cea4\n",
    "# https://stackoverflow.com/a/14434334\n",
    "# This function is used to update the plots for each epoch and error\n",
    "def plt_dynamic(x, vy, ty, ax, colors=['b']):\n",
    "    ax.plot(x, vy, 'b', label=\"Validation Loss\")\n",
    "    ax.plot(x, ty, 'r', label=\"Train Loss\")\n",
    "    plt.legend()\n",
    "    plt.grid()\n",
    "    fig.canvas.draw()\n",
    "\n",
    "fig,ax = plt.subplots(1,1)\n",
    "ax.set_xlabel('epoch') \n",
    "ax.set_ylabel('Categorical Crossentropy Loss')\n",
    "\n",
    "# list of epoch numbers\n",
    "x = list(range(1,epochs+1))\n",
    "\n",
    "vy = history.history['val_loss']\n",
    "ty = history.history['loss']\n",
    "plt_dynamic(x, vy, ty, ax)"
   ]
  },
  {
   "cell_type": "code",
   "execution_count": 44,
   "metadata": {},
   "outputs": [],
   "source": [
    "from keras.models import load_model\n",
    "model = load_model('weights_balanced_cnn_7layered_best.hdf5')"
   ]
  },
  {
   "cell_type": "code",
   "execution_count": 45,
   "metadata": {},
   "outputs": [
    {
     "name": "stdout",
     "output_type": "stream",
     "text": [
      "Found 1000 images belonging to 4 classes.\n"
     ]
    }
   ],
   "source": [
    "pred_datagen = ImageDataGenerator()\n",
    "\n",
    "pred_generator = pred_datagen.flow_from_directory(\"OCT2017/test\",target_size=(image_size, image_size),\n",
    "                                                  batch_size=1,\n",
    "                                                  class_mode='categorical',\n",
    "                                                  shuffle = False)                                                  "
   ]
  },
  {
   "cell_type": "code",
   "execution_count": 46,
   "metadata": {},
   "outputs": [],
   "source": [
    "pred_generator.reset()\n",
    "y_pred = model.predict_generator(pred_generator,steps = 1000)\n",
    "Y_test = pred_generator.classes[pred_generator.index_array]\n",
    "Y_pred = np.argmax(y_pred, axis=-1)"
   ]
  },
  {
   "cell_type": "code",
   "execution_count": 47,
   "metadata": {},
   "outputs": [],
   "source": [
    "import pickle\n",
    "with open('y_pred_balanced_cnn_7layered_best.pkl','wb') as f:\n",
    "    pickle.dump(y_pred, f)"
   ]
  },
  {
   "cell_type": "code",
   "execution_count": 48,
   "metadata": {},
   "outputs": [
    {
     "name": "stdout",
     "output_type": "stream",
     "text": [
      "--------------------\n",
      "| Confusion Matrix |\n",
      "--------------------\n",
      "\n",
      " [[249   1   0   0]\n",
      " [  4 244   0   2]\n",
      " [ 21   1 228   0]\n",
      " [  0   0   0 250]]\n"
     ]
    },
    {
     "data": {
      "image/png": "[encoded data removed]",
      "text/plain": [
       "<Figure size 576x576 with 2 Axes>"
      ]
     },
     "metadata": {},
     "output_type": "display_data"
    }
   ],
   "source": [
    "# confusion matrix\n",
    "cm = confusion_matrix(Y_test, Y_pred)\n",
    " \n",
    "print('--------------------')\n",
    "print('| Confusion Matrix |')\n",
    "print('--------------------')\n",
    "print('\\n {}'.format(cm))\n",
    "        \n",
    "# plot confusin matrix\n",
    "plt.figure(figsize=(8,8))\n",
    "plt.grid(b=False)\n",
    "plot_confusion_matrix(cm, classes=['CNV','DME','DRUSEN','NORMAL'], normalize=False, \n",
    "                      title='Confusion matrix', cmap = plt.cm.Blues)\n",
    "plt.show()"
   ]
  },
  {
   "cell_type": "code",
   "execution_count": 49,
   "metadata": {
    "scrolled": true
   },
   "outputs": [
    {
     "name": "stdout",
     "output_type": "stream",
     "text": [
      "              precision    recall  f1-score   support\n",
      "\n",
      "         CNV       0.91      1.00      0.95       250\n",
      "         DME       0.99      0.98      0.98       250\n",
      "      DRUSEN       1.00      0.91      0.95       250\n",
      "      Normal       0.99      1.00      1.00       250\n",
      "\n",
      "   micro avg       0.97      0.97      0.97      1000\n",
      "   macro avg       0.97      0.97      0.97      1000\n",
      "weighted avg       0.97      0.97      0.97      1000\n",
      "\n"
     ]
    }
   ],
   "source": [
    "from sklearn.metrics import classification_report\n",
    "print(classification_report(Y_test,Y_pred,target_names=['CNV','DME','DRUSEN','Normal']))"
   ]
  },
  {
   "cell_type": "markdown",
   "metadata": {},
   "source": [
    "### Observations:\n",
    "1. We have 7 hidden layers in this CNN model.\n",
    "2. **Test Loss: 0.088**\n",
    "3. **Test accuracy: 0.971**\n",
    "4. **precision = 0.97 || recall = 0.97 || f1-score = 0.97**\n",
    "3. **CNN model with 5 hidden layers perform brilliantly.**"
   ]
  },
  {
   "cell_type": "markdown",
   "metadata": {},
   "source": [
    "# Models Performance Table "
   ]
  },
  {
   "cell_type": "markdown",
   "metadata": {},
   "source": [
    "## ![title](oct.jpg) "
   ]
  },
  {
   "cell_type": "markdown",
   "metadata": {},
   "source": [
    "# Conclusion:\n",
    "1. **We have Deep learning CNN for classification model.**\n",
    "2. **Due to large size of dataset we have used ImageDataGenerator module from keras for Batch wise training of our CNN model.**\n",
    "3. **CNN model with 5 Hdden Layers gives best results:**\n",
    "    1. **Test Loss: 0.040**\n",
    "    2. **Test accuracy: 0.989**"
   ]
  }
 ],
 "metadata": {
  "kernelspec": {
   "display_name": "Python 3",
   "language": "python",
   "name": "python3"
  },
  "language_info": {
   "codemirror_mode": {
    "name": "ipython",
    "version": 3
   },
   "file_extension": ".py",
   "mimetype": "text/x-python",
   "name": "python",
   "nbconvert_exporter": "python",
   "pygments_lexer": "ipython3",
   "version": "3.6.4"
  }
 },
 "nbformat": 4,
 "nbformat_minor": 2
}
